{
  "cells": [
    {
      "cell_type": "markdown",
      "source": [
        "# CSC-786. Activity 4 - Manuel Marin\n",
        "## Download this notebook and open it in Google Colab.\n"
      ],
      "metadata": {
        "id": "YDGT0gh8ZVBW"
      },
      "id": "YDGT0gh8ZVBW"
    },
    {
      "cell_type": "markdown",
      "id": "51f975db",
      "metadata": {
        "id": "51f975db"
      },
      "source": [
        "## Setup Environment"
      ]
    },
    {
      "cell_type": "code",
      "execution_count": null,
      "id": "b04d49f2",
      "metadata": {
        "id": "b04d49f2"
      },
      "outputs": [],
      "source": [
        "!pip install python-dotenv --quiet\n",
        "import os, pandas as pd, requests, hashlib, json, sys, time, matplotlib\n",
        "from datetime import datetime, timezone\n",
        "from pathlib import Path\n",
        "import matplotlib.pyplot as plt\n",
        "\n",
        "\n",
        "ROOT = Path(\"/content/csc786-a4-manuel-marin\")\n",
        "DATA = ROOT / \"data\"\n",
        "DATA.mkdir(exist_ok=True)\n",
        "print(\"Environment ready. Files will be stored in:\", DATA)\n"
      ]
    },
    {
      "cell_type": "markdown",
      "id": "0189ddb9",
      "metadata": {
        "id": "0189ddb9"
      },
      "source": [
        "# API Key Setup\n",
        "## Get your API Key from https://fdc.nal.usda.gov/api-key-signup"
      ]
    },
    {
      "cell_type": "code",
      "execution_count": null,
      "id": "dc445d75",
      "metadata": {
        "id": "dc445d75"
      },
      "outputs": [],
      "source": [
        "# Store key securely in this Colab session\n",
        "%env FOOD_DATA_API_KEY=your_api_key_here\n",
        "\n",
        "API_KEY = os.getenv(\"FOOD_DATA_API_KEY\")\n",
        "print(\"Key loaded:\", API_KEY[:6] + \"****\" if API_KEY else \"No key found\")\n"
      ]
    },
    {
      "cell_type": "markdown",
      "id": "67b8c1e2",
      "metadata": {
        "id": "67b8c1e2"
      },
      "source": [
        "### USDA FoodData Central API - Get list of foods with comprehensive data"
      ]
    },
    {
      "cell_type": "code",
      "execution_count": null,
      "id": "bc57ee23",
      "metadata": {
        "id": "bc57ee23",
        "collapsed": true
      },
      "outputs": [],
      "source": [
        "\n",
        "url = \"https://api.nal.usda.gov/fdc/v1/foods/list\"\n",
        "params = {\n",
        "    \"api_key\": API_KEY,\n",
        "    \"pageSize\": 50,      # Get more foods for better plotting\n",
        "    \"pageNumber\": 1\n",
        "}\n",
        "\n",
        "r = requests.get(url, params=params, timeout=10)\n",
        "r.raise_for_status()\n",
        "data = r.json()\n",
        "\n",
        "# Extract comprehensive food data for plotting\n",
        "foods_data = []\n",
        "for food in data:\n",
        "    food_info = {\n",
        "        \"fdcId\": food.get(\"fdcId\"),\n",
        "        \"description\": food.get(\"description\"),\n",
        "        \"dataType\": food.get(\"dataType\"),  # Good for categorical plotting\n",
        "        \"publicationDate\": food.get(\"publicationDate\", \"N/A\"),\n",
        "        \"brandOwner\": food.get(\"brandOwner\", \"N/A\"),\n",
        "    }\n",
        "\n",
        "    # Extract key nutrients for plotting\n",
        "    nutrients = food.get(\"foodNutrients\", [])\n",
        "    nutrient_dict = {}\n",
        "\n",
        "    for nutrient in nutrients:\n",
        "        nutrient_name = nutrient.get(\"nutrientName\", \"\")\n",
        "        nutrient_value = nutrient.get(\"value\", 0)\n",
        "        nutrient_unit = nutrient.get(\"unitName\", \"\")\n",
        "\n",
        "        # Store common nutrients useful for plotting\n",
        "        if \"Energy\" in nutrient_name or \"Protein\" in nutrient_name or \\\n",
        "            \"Carbohydrate\" in nutrient_name or \"Fat\" in nutrient_name or \\\n",
        "            \"Fiber\" in nutrient_name or \"Sugar\" in nutrient_name:\n",
        "            nutrient_dict[nutrient_name] = {\n",
        "                \"value\": nutrient_value,\n",
        "                \"unit\": nutrient_unit\n",
        "            }\n",
        "\n",
        "    # Add nutrients to food_info\n",
        "    food_info[\"nutrients\"] = nutrient_dict\n",
        "    food_info[\"nutrient_count\"] = len(nutrients)  # Track how many nutrients available\n",
        "\n",
        "    foods_data.append(food_info)\n",
        "\n",
        "foods_data\n"
      ]
    },
    {
      "cell_type": "code",
      "source": [
        "df = pd.DataFrame(foods_data)\n",
        "\n",
        "print(f\"Retrieved {len(df)} foods\")\n",
        "print(f\"\\nData types available: {df['dataType'].unique()}\")\n",
        "print(f\"\\nColumns available: {df.columns.tolist()}\")\n",
        "df.head()\n"
      ],
      "metadata": {
        "id": "8cVYB-UtCRNX"
      },
      "id": "8cVYB-UtCRNX",
      "execution_count": null,
      "outputs": []
    },
    {
      "cell_type": "markdown",
      "source": [
        "# Step 1: Search for commonly wasted restaurant foods"
      ],
      "metadata": {
        "id": "sJGPUv2XNb3Q"
      },
      "id": "sJGPUv2XNb3Q"
    },
    {
      "cell_type": "code",
      "source": [
        "commonly_wasted = [\"french fries\", \"bread\", \"pizza\", \"salad\", \"chicken wings\"]\n",
        "SEARCH_ENDPOINT = \"https://api.nal.usda.gov/fdc/v1/foods/search\"\n",
        "\n",
        "all_foods = []\n",
        "\n",
        "for food_name in commonly_wasted:\n",
        "    params = {\n",
        "        \"api_key\": API_KEY,\n",
        "        \"query\": food_name,\n",
        "        \"pageSize\": 1\n",
        "    }\n",
        "\n",
        "    try:\n",
        "        r = requests.get(SEARCH_ENDPOINT, params=params, timeout=10)\n",
        "        r.raise_for_status()\n",
        "        data = r.json()\n",
        "\n",
        "        if data.get(\"foods\"):\n",
        "            food = data[\"foods\"][0]\n",
        "\n",
        "            nutrients_dict = {}\n",
        "            for nutrient in food.get(\"foodNutrients\", []):\n",
        "                name = nutrient.get(\"nutrientName\", \"\")\n",
        "                value = nutrient.get(\"value\", 0)\n",
        "\n",
        "                if \"Energy\" in name:\n",
        "                    nutrients_dict[\"Calories\"] = value\n",
        "                elif name == \"Protein\":\n",
        "                    nutrients_dict[\"Protein (g)\"] = value\n",
        "                elif name == \"Total lipid (fat)\":\n",
        "                    nutrients_dict[\"Fat (g)\"] = value\n",
        "                elif name == \"Carbohydrate, by difference\":\n",
        "                    nutrients_dict[\"Carbs (g)\"] = value\n",
        "\n",
        "            all_foods.append({\n",
        "                \"food_name\": food.get(\"description\"),\n",
        "                \"search_term\": food_name,\n",
        "                \"fdcId\": food.get(\"fdcId\"),\n",
        "                \"dataType\": food.get(\"dataType\"),\n",
        "                **nutrients_dict\n",
        "            })\n",
        "\n",
        "            print(f\"✓ Found: {food.get('description')}\")\n",
        "\n",
        "    except Exception as e:\n",
        "        print(f\"✗ Error fetching {food_name}: {e}\")\n"
      ],
      "metadata": {
        "id": "lGGNftFyDyJB"
      },
      "id": "lGGNftFyDyJB",
      "execution_count": null,
      "outputs": []
    },
    {
      "cell_type": "markdown",
      "source": [
        "## Step 2: Create DataFrame"
      ],
      "metadata": {
        "id": "LdrsS4WxNn_b"
      },
      "id": "LdrsS4WxNn_b"
    },
    {
      "cell_type": "code",
      "source": [
        "df = pd.DataFrame(all_foods)\n",
        "\n",
        "if \"Calories\" not in df.columns:\n",
        "    print(\"\\n⚠ Calories not found. Calculating from macronutrients...\")\n",
        "    df[\"Calories\"] = (\n",
        "        df.get(\"Protein (g)\", 0) * 4 +\n",
        "        df.get(\"Carbs (g)\", 0) * 4 +\n",
        "        df.get(\"Fat (g)\", 0) * 9\n",
        "    )\n",
        "    calories_calculated = True\n",
        "    print(\"✓ Calories calculated\")\n",
        "else:\n",
        "    calories_calculated = False\n",
        "\n",
        "print(f\"\\nDataFrame created with {len(df)} foods\")\n",
        "print(df)"
      ],
      "metadata": {
        "id": "QZwrCuEBNllF"
      },
      "id": "QZwrCuEBNllF",
      "execution_count": null,
      "outputs": []
    },
    {
      "cell_type": "markdown",
      "source": [
        "\n",
        "## Step 3: Generate timestamp ONCE for all files\n"
      ],
      "metadata": {
        "id": "ZkCSDyYXPOL9"
      },
      "id": "ZkCSDyYXPOL9"
    },
    {
      "cell_type": "code",
      "source": [
        "timestamp = datetime.now(timezone.utc).strftime(\"%Y-%m-%dT%H%M%SZ\")"
      ],
      "metadata": {
        "id": "5OzLyhfmPJKv"
      },
      "id": "5OzLyhfmPJKv",
      "execution_count": null,
      "outputs": []
    },
    {
      "cell_type": "markdown",
      "source": [
        "## Step 4: Save CSV"
      ],
      "metadata": {
        "id": "djusXwGTPd0t"
      },
      "id": "djusXwGTPd0t"
    },
    {
      "cell_type": "code",
      "source": [
        "out_csv = DATA / f\"food_nutrition_data_{timestamp}.csv\"\n",
        "df.to_csv(out_csv, index=False)\n",
        "print(f\"\\n✓ Data saved to CSV: {out_csv.name}\")\n",
        "\n",
        "# Calculate hash\n",
        "file_hash = hashlib.sha256(out_csv.read_bytes()).hexdigest()\n",
        "print(f\"✓ File hash: {file_hash[:16]}...\")"
      ],
      "metadata": {
        "id": "aQjm-oh5PbQ8"
      },
      "id": "aQjm-oh5PbQ8",
      "execution_count": null,
      "outputs": []
    },
    {
      "cell_type": "markdown",
      "source": [
        "## Step 5: Create Chart 1 - Calories"
      ],
      "metadata": {
        "id": "SxYNKf6SPtJR"
      },
      "id": "SxYNKf6SPtJR"
    },
    {
      "cell_type": "code",
      "source": [
        "fig, ax = plt.subplots(figsize=(10, 6))\n",
        "df_sorted = df.sort_values('Calories', ascending=True)\n",
        "colors = ['#e74c3c', '#e67e22', '#f39c12', '#27ae60', '#3498db']\n",
        "bars = ax.barh(df_sorted['search_term'], df_sorted['Calories'], color=colors)\n",
        "\n",
        "ax.set_xlabel('Calories per 100g', fontsize=12, weight='bold')\n",
        "ax.set_ylabel('Commonly Wasted Restaurant Foods', fontsize=12, weight='bold')\n",
        "ax.set_title('Nutritional Value Lost: Calories in Commonly Wasted Foods',\n",
        "              fontsize=14, weight='bold', pad=20)\n",
        "ax.grid(axis='x', alpha=0.3, linestyle='--')\n",
        "\n",
        "for bar, val in zip(bars, df_sorted['Calories']):\n",
        "    ax.text(val + 5, bar.get_y() + bar.get_height()/2,\n",
        "            f'{val:.0f} kcal', va='center', fontsize=10, weight='bold')\n",
        "\n",
        "plt.tight_layout()\n",
        "plot_file1 = DATA / f\"food_waste_calories_{timestamp}.png\"\n",
        "plt.savefig(plot_file1, dpi=300, bbox_inches='tight')\n",
        "print(f\"\\n✓ Plot 1 saved: {plot_file1.name}\")\n",
        "plt.show()\n"
      ],
      "metadata": {
        "id": "xDbymV1gPq2n"
      },
      "id": "xDbymV1gPq2n",
      "execution_count": null,
      "outputs": []
    },
    {
      "cell_type": "markdown",
      "source": [
        "## Step 6: Create Chart 2 - Nutrients"
      ],
      "metadata": {
        "id": "T0sE6Fc0Pyaf"
      },
      "id": "T0sE6Fc0Pyaf"
    },
    {
      "cell_type": "code",
      "source": [
        "nutrient_cols = [col for col in df.columns if col not in ['food_name', 'search_term', 'Calories', 'fdcId', 'dataType']]\n",
        "\n",
        "plot_file2 = None\n",
        "if len(nutrient_cols) > 0:\n",
        "    fig, ax = plt.subplots(figsize=(12, 6))\n",
        "\n",
        "    x = range(len(df))\n",
        "    width = 0.25\n",
        "    colors_nutrients = ['#3498db', '#e74c3c', '#f39c12']\n",
        "\n",
        "    for i, col in enumerate(nutrient_cols):\n",
        "        if col in df.columns:\n",
        "            offset = width * (i - len(nutrient_cols)/2)\n",
        "            ax.bar([p + offset for p in x], df[col], width,\n",
        "                    label=col, color=colors_nutrients[i % len(colors_nutrients)])\n",
        "\n",
        "    ax.set_xlabel('Foods', fontsize=12, weight='bold')\n",
        "    ax.set_ylabel('Amount (grams per 100g)', fontsize=12, weight='bold')\n",
        "    ax.set_title('Macronutrient Comparison: Commonly Wasted Foods',\n",
        "                  fontsize=14, weight='bold')\n",
        "    ax.set_xticks(x)\n",
        "    ax.set_xticklabels(df['search_term'], rotation=45, ha='right')\n",
        "    ax.legend(loc='upper left')\n",
        "    ax.grid(axis='y', alpha=0.3)\n",
        "\n",
        "    plt.tight_layout()\n",
        "    plot_file2 = DATA / f\"food_waste_nutrients_{timestamp}.png\"\n",
        "    plt.savefig(plot_file2, dpi=300, bbox_inches='tight')\n",
        "    print(f\"✓ Plot 2 saved: {plot_file2.name}\")\n",
        "    plt.show()\n"
      ],
      "metadata": {
        "id": "sMc0DV4hPxKP"
      },
      "id": "sMc0DV4hPxKP",
      "execution_count": null,
      "outputs": []
    },
    {
      "cell_type": "markdown",
      "source": [
        "## Step 7: LOG PROVENANCE TO DATA_README.md"
      ],
      "metadata": {
        "id": "vHkMZWD_P56n"
      },
      "id": "vHkMZWD_P56n"
    },
    {
      "cell_type": "code",
      "source": [
        "meta = {\n",
        "    \"timestamp_utc\": timestamp,\n",
        "    \"endpoint\": SEARCH_ENDPOINT,\n",
        "    \"search_terms\": commonly_wasted,\n",
        "    \"foods_collected\": len(df),\n",
        "    \"params\": {\n",
        "        \"pageSize\": 1,\n",
        "        \"api_key\": \"REDACTED\"\n",
        "    },\n",
        "    \"output_csv\": out_csv.name,\n",
        "    \"output_plot1\": plot_file1.name,\n",
        "    \"output_plot2\": plot_file2.name if plot_file2 else None,\n",
        "    \"sha256_csv\": file_hash,\n",
        "    \"calories_calculated\": calories_calculated,\n",
        "    \"python\": sys.version.split()[0],\n",
        "    \"pandas\": pd.__version__,\n",
        "    \"requests\": requests.__version__,\n",
        "    \"matplotlib\": matplotlib.__version__,\n",
        "}\n",
        "\n",
        "with open(ROOT / \"DATA_README.md\", \"a\") as f:\n",
        "    f.write(f\"\\n\\n```json\\n{json.dumps(meta, indent=2)}\\n```\")\n",
        "\n",
        "print(f\"\\n✓ Metadata logged to DATA_README.md\")"
      ],
      "metadata": {
        "id": "NKPfpFeDP3Om"
      },
      "id": "NKPfpFeDP3Om",
      "execution_count": null,
      "outputs": []
    },
    {
      "cell_type": "markdown",
      "source": [
        "# Step 8: Display Summary"
      ],
      "metadata": {
        "id": "8ISKfjsFQABC"
      },
      "id": "8ISKfjsFQABC"
    },
    {
      "cell_type": "code",
      "source": [
        "\n",
        "print(\"\\n\" + \"=\"*60)\n",
        "print(\"📊 DATA COLLECTION SUMMARY\")\n",
        "print(\"=\"*60)\n",
        "print(f\"Timestamp:       {timestamp}\")\n",
        "print(f\"Foods collected: {len(df)}\")\n",
        "print(f\"CSV file:        {out_csv.name}\")\n",
        "print(f\"Chart 1:         {plot_file1.name}\")\n",
        "if plot_file2:\n",
        "    print(f\"Chart 2:         {plot_file2.name}\")\n",
        "print(f\"SHA-256 hash:    {file_hash[:16]}...\")\n",
        "print(\"=\"*60)\n",
        "\n",
        "# Display last entries in DATA_README.md\n",
        "print(\"\\n📄 Latest DATA_README.md entries:\")\n",
        "!tail -n 25 {ROOT / \"DATA_README.md\"}"
      ],
      "metadata": {
        "id": "RHN7yZv_P-zt"
      },
      "id": "RHN7yZv_P-zt",
      "execution_count": null,
      "outputs": []
    },
    {
      "cell_type": "markdown",
      "source": [
        "## **Calculate calories if missing**"
      ],
      "metadata": {
        "id": "bcrIt1rtPI-L"
      },
      "id": "bcrIt1rtPI-L"
    },
    {
      "cell_type": "code",
      "source": [
        "df = pd.DataFrame(all_foods)\n",
        "\n",
        "if \"Calories\" not in df.columns:\n",
        "    print(\"\\n⚠ Calories not found in API response. Calculating from macronutrients...\")\n",
        "    # Calorie calculation: Protein(4 cal/g) + Carbs(4 cal/g) + Fat(9 cal/g)\n",
        "    df[\"Calories\"] = (\n",
        "        df.get(\"Protein (g)\", 0) * 4 +\n",
        "        df.get(\"Carbs (g)\", 0) * 4 +\n",
        "        df.get(\"Fat (g)\", 0) * 9\n",
        "    )\n",
        "    print(\"✓ Calories calculated successfully\")\n",
        "\n",
        "print(f\"\\nDataFrame created with {len(df)} foods\")\n",
        "print(df)\n",
        "\n",
        "# ========================================\n",
        "# NEW: Save DataFrame to CSV\n",
        "# ========================================\n",
        "timestamp = datetime.now(timezone.utc).strftime(\"%Y-%m-%dT%H%M%SZ\")\n",
        "csv_file = DATA / f\"food_nutrition_data_{timestamp}.csv\"\n",
        "df.to_csv(csv_file, index=False)\n",
        "print(f\"\\n✓ Data saved to CSV: {csv_file}\")\n",
        "\n",
        "# Calculate SHA-256 hash of CSV file for provenance\n",
        "file_hash = hashlib.sha256(csv_file.read_bytes()).hexdigest()\n",
        "print(f\"✓ File hash (SHA-256): {file_hash[:16]}...\")\n"
      ],
      "metadata": {
        "id": "EkZMIAjXH6ea"
      },
      "id": "EkZMIAjXH6ea",
      "execution_count": null,
      "outputs": []
    }
  ],
  "metadata": {
    "colab": {
      "provenance": []
    },
    "language_info": {
      "name": "python"
    },
    "kernelspec": {
      "name": "python3",
      "display_name": "Python 3"
    }
  },
  "nbformat": 4,
  "nbformat_minor": 5
}